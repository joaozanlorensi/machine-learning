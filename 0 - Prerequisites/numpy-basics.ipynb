{
 "metadata": {
  "language_info": {
   "codemirror_mode": {
    "name": "ipython",
    "version": 3
   },
   "file_extension": ".py",
   "mimetype": "text/x-python",
   "name": "python",
   "nbconvert_exporter": "python",
   "pygments_lexer": "ipython3",
   "version": "3.8.2"
  },
  "orig_nbformat": 4,
  "kernelspec": {
   "name": "python3",
   "display_name": "Python 3.8.2 64-bit"
  },
  "interpreter": {
   "hash": "2db524e06e9f5f4ffedc911c917cb75e12dbc923643829bf417064a77eb14d37"
  }
 },
 "nbformat": 4,
 "nbformat_minor": 2,
 "cells": [
  {
   "source": [
    "This Notebook was based in the incredible classes taught by Prof. Sebastian Raschka, which are all made available for free in his [YouTube Channel](https://www.youtube.com/watch?v=I8vRP4GVs_E)."
   ],
   "cell_type": "markdown",
   "metadata": {}
  },
  {
   "source": [
    "## Why Numpy? Why not staying strict to Python's default data types for multidimensional data? \n",
    "#### *(A practical, yet somehow detailed answer)*\n",
    "\n",
    "The short answer is: because using Numpy is much more efficient than using Python's default data types for manipulating lists of numeric values.    \n",
    "Numpy is written in [multiple programming languages](https://github.com/numpy/numpy), such as C and C++, and this allows it to be much more faster. \n",
    "While in Python's _lists every element acts like a pointer to a random position in memory and it allows users to store multiple different data types within the same variable, storing both the address and the element content in the background, Numpy uses contiguous blocks of memory, allowing our computer to do caching and for performing much faster lookup algorithms in RAM, with the restriction of using a single data type per variable.  \n",
    "As an example:  \n",
    "> Let's say you have 8 64-bit integers. Since you know the size that your array would have (512 bits), you would not have to store all of the memory addresses for all the elements in your array, but only the first one's address, and, from it, you would be able to find every other element with an efficient lookup algorithm.  \n",
    "\n",
    "Apart from the computational advantages, Numpy can also be more elegant and readable for performing vectorized operations and broadcasting.\n",
    "\n",
    "**Summing it up:** essentialy, you can and should use lists whenever you want to handle different data types within the same variable, when you have a smaller dataset or when you simply don't have a performance requirement. However, in scenarios where you need to manipulate a large amount of data, numeric data, and have a performance requirement, you should go for Numpy- it is the best choice for scientific computing, on most of the cases! "
   ],
   "cell_type": "markdown",
   "metadata": {}
  },
  {
   "source": [
    "## Demonstration and performance comparison: Dot Product\n",
    "> A and B are n-dimensional vectors  \n",
    "> A's dimension: 1 x n  \n",
    "> B's dimension: 1 x n  \n",
    "> C = A . B = A \\* B^T = A1 \\* B1 + A2 \\* B2 + A3 \\* B3 + ... + An \\* Bn  "
   ],
   "cell_type": "markdown",
   "metadata": {}
  },
  {
   "cell_type": "code",
   "execution_count": 1,
   "metadata": {},
   "outputs": [],
   "source": [
    "import numpy as np"
   ]
  },
  {
   "cell_type": "code",
   "execution_count": 2,
   "metadata": {},
   "outputs": [],
   "source": [
    "# Dot product using Lists\n",
    "def dot_product_list(A, B):\n",
    "    return sum([A[i] * B[i] for i in range(len(A))])\n",
    "\n",
    "# Dot product using Numpy\n",
    "def dot_product_numpy(A, B):\n",
    "    return np.dot(A, B)"
   ]
  },
  {
   "cell_type": "code",
   "execution_count": 3,
   "metadata": {},
   "outputs": [],
   "source": [
    "# Defining two big floating point lists and its respectives ndarrays\n",
    "A = [i/5.5 for i in range(1000000)]\n",
    "B = [i/8.8 for i in range(1000000)]\n",
    "A_numpy = np.array(A)\n",
    "B_numpy = np.array(B)"
   ]
  },
  {
   "cell_type": "code",
   "execution_count": 4,
   "metadata": {},
   "outputs": [
    {
     "output_type": "stream",
     "name": "stdout",
     "text": [
      "179 ms ± 28.7 ms per loop (mean ± std. dev. of 7 runs, 1 loop each)\n"
     ]
    }
   ],
   "source": [
    "# Measuring the time it takes for the dot product to be executed using Lists\n",
    "%timeit C = dot_product_list(A, B)"
   ]
  },
  {
   "cell_type": "code",
   "execution_count": 5,
   "metadata": {},
   "outputs": [
    {
     "output_type": "stream",
     "name": "stdout",
     "text": [
      "676 µs ± 19.5 µs per loop (mean ± std. dev. of 7 runs, 1000 loops each)\n"
     ]
    }
   ],
   "source": [
    "# Measuring the time it takes for the dot product to be executed using Numpy\n",
    "%timeit C_numpy = dot_product_numpy(A_numpy, B_numpy)"
   ]
  },
  {
   "source": [
    "The execution time speaks for itself! Numpy did much better in performance."
   ],
   "cell_type": "markdown",
   "metadata": {}
  },
  {
   "source": [
    "## Exploring some nice Numpy features:"
   ],
   "cell_type": "markdown",
   "metadata": {}
  },
  {
   "source": [
    "### Custom Data Types:\n",
    "\n",
    "Numpy allows for custom data types, such as float16 or float32.  \n",
    "While this is a nice feature for adding more control over your data types, you must be careful because using less bits implies in less precision, and, in Scientific Computing, using higher precision data types, such as float64, is highly encouraged."
   ],
   "cell_type": "markdown",
   "metadata": {}
  },
  {
   "cell_type": "code",
   "execution_count": 6,
   "metadata": {},
   "outputs": [
    {
     "output_type": "execute_result",
     "data": {
      "text/plain": [
       "numpy.ndarray"
      ]
     },
     "metadata": {},
     "execution_count": 6
    }
   ],
   "source": [
    "type(A_numpy)"
   ]
  },
  {
   "cell_type": "code",
   "execution_count": 7,
   "metadata": {},
   "outputs": [
    {
     "output_type": "execute_result",
     "data": {
      "text/plain": [
       "numpy.float64"
      ]
     },
     "metadata": {},
     "execution_count": 7
    }
   ],
   "source": [
    "type(A_numpy[0])"
   ]
  },
  {
   "cell_type": "code",
   "execution_count": 8,
   "metadata": {},
   "outputs": [],
   "source": [
    "A_numpy = A_numpy.astype(np.float16)"
   ]
  },
  {
   "cell_type": "code",
   "execution_count": 9,
   "metadata": {},
   "outputs": [
    {
     "output_type": "execute_result",
     "data": {
      "text/plain": [
       "numpy.float16"
      ]
     },
     "metadata": {},
     "execution_count": 9
    }
   ],
   "source": [
    "type(A_numpy[0])"
   ]
  },
  {
   "source": [
    "### Useful ndarray attributes:"
   ],
   "cell_type": "markdown",
   "metadata": {}
  },
  {
   "cell_type": "code",
   "execution_count": 10,
   "metadata": {},
   "outputs": [
    {
     "output_type": "execute_result",
     "data": {
      "text/plain": [
       "1"
      ]
     },
     "metadata": {},
     "execution_count": 10
    }
   ],
   "source": [
    "A_numpy.ndim"
   ]
  },
  {
   "cell_type": "code",
   "execution_count": 11,
   "metadata": {},
   "outputs": [
    {
     "output_type": "execute_result",
     "data": {
      "text/plain": [
       "(1000000,)"
      ]
     },
     "metadata": {},
     "execution_count": 11
    }
   ],
   "source": [
    "A_numpy.shape"
   ]
  },
  {
   "source": [
    "This and much more can be found at the [official Numpy documentation](https://numpy.org/doc/stable/reference/generated/numpy.ndarray.html)!"
   ],
   "cell_type": "markdown",
   "metadata": {}
  },
  {
   "source": [
    "## Array Construction Routines"
   ],
   "cell_type": "markdown",
   "metadata": {}
  },
  {
   "cell_type": "code",
   "execution_count": 78,
   "metadata": {},
   "outputs": [
    {
     "output_type": "execute_result",
     "data": {
      "text/plain": [
       "array([[1, 1, 1],\n",
       "       [1, 1, 1],\n",
       "       [1, 1, 1]])"
      ]
     },
     "metadata": {},
     "execution_count": 78
    }
   ],
   "source": [
    "# Creates a matrix of 3x3 dimension, with int32 data types, filled with ones\n",
    "# The default dtype is np.float64\n",
    "np.ones((3,3), dtype=np.int32)"
   ]
  },
  {
   "cell_type": "code",
   "execution_count": 60,
   "metadata": {},
   "outputs": [
    {
     "output_type": "stream",
     "name": "stdout",
     "text": [
      "Help on function ones in module numpy:\n\nones(shape, dtype=None, order='C')\n    Return a new array of given shape and type, filled with ones.\n    \n    Parameters\n    ----------\n    shape : int or sequence of ints\n        Shape of the new array, e.g., ``(2, 3)`` or ``2``.\n    dtype : data-type, optional\n        The desired data-type for the array, e.g., `numpy.int8`.  Default is\n        `numpy.float64`.\n    order : {'C', 'F'}, optional, default: C\n        Whether to store multi-dimensional data in row-major\n        (C-style) or column-major (Fortran-style) order in\n        memory.\n    \n    Returns\n    -------\n    out : ndarray\n        Array of ones with the given shape, dtype, and order.\n    \n    See Also\n    --------\n    ones_like : Return an array of ones with shape and type of input.\n    empty : Return a new uninitialized array.\n    zeros : Return a new array setting values to zero.\n    full : Return a new array of given shape filled with value.\n    \n    \n    Examples\n    --------\n    >>> np.ones(5)\n    array([1., 1., 1., 1., 1.])\n    \n    >>> np.ones((5,), dtype=int)\n    array([1, 1, 1, 1, 1])\n    \n    >>> np.ones((2, 1))\n    array([[1.],\n           [1.]])\n    \n    >>> s = (2,2)\n    >>> np.ones(s)\n    array([[1.,  1.],\n           [1.,  1.]])\n\n"
     ]
    }
   ],
   "source": [
    "help(np.ones)"
   ]
  },
  {
   "cell_type": "code",
   "execution_count": 64,
   "metadata": {},
   "outputs": [
    {
     "output_type": "execute_result",
     "data": {
      "text/plain": [
       "array([[0.00000000e+000, 0.00000000e+000, 0.00000000e+000],\n",
       "       [0.00000000e+000, 0.00000000e+000, 1.13239846e-320],\n",
       "       [1.42410974e-306, 8.70018274e-313, 2.56761491e-312]])"
      ]
     },
     "metadata": {},
     "execution_count": 64
    }
   ],
   "source": [
    "np.empty((3,3)) # Is much faster to initialize arrays, as it doesn't have to fill in the array with custom values, it just takes the random values from the memory."
   ]
  },
  {
   "cell_type": "code",
   "execution_count": 67,
   "metadata": {},
   "outputs": [
    {
     "output_type": "execute_result",
     "data": {
      "text/plain": [
       "array([[1., 0.],\n",
       "       [0., 1.]])"
      ]
     },
     "metadata": {},
     "execution_count": 67
    }
   ],
   "source": [
    "np.eye(2) # Identity Matrix"
   ]
  },
  {
   "cell_type": "code",
   "execution_count": 68,
   "metadata": {},
   "outputs": [
    {
     "output_type": "execute_result",
     "data": {
      "text/plain": [
       "array([0, 1, 2, 3, 4])"
      ]
     },
     "metadata": {},
     "execution_count": 68
    }
   ],
   "source": [
    "np.arange(5)"
   ]
  },
  {
   "cell_type": "code",
   "execution_count": 79,
   "metadata": {},
   "outputs": [
    {
     "output_type": "execute_result",
     "data": {
      "text/plain": [
       "array([ 1. ,  1.5,  2. ,  2.5,  3. ,  3.5,  4. ,  4.5,  5. ,  5.5,  6. ,\n",
       "        6.5,  7. ,  7.5,  8. ,  8.5,  9. ,  9.5, 10. ])"
      ]
     },
     "metadata": {},
     "execution_count": 79
    }
   ],
   "source": [
    "np.linspace(1,10,19) # creates an evenly spaced array"
   ]
  },
  {
   "cell_type": "code",
   "execution_count": 77,
   "metadata": {},
   "outputs": [
    {
     "output_type": "execute_result",
     "data": {
      "text/plain": [
       "array([1, 3])"
      ]
     },
     "metadata": {},
     "execution_count": 77
    }
   ],
   "source": [
    "np.arange(1,5,2) # start, stop, step"
   ]
  },
  {
   "source": [
    "## Array Indexing"
   ],
   "cell_type": "markdown",
   "metadata": {}
  },
  {
   "cell_type": "code",
   "execution_count": 81,
   "metadata": {},
   "outputs": [],
   "source": [
    "a = np.empty((4,4)) # a 4x4 matrix"
   ]
  },
  {
   "cell_type": "code",
   "execution_count": 82,
   "metadata": {},
   "outputs": [
    {
     "output_type": "execute_result",
     "data": {
      "text/plain": [
       "array([6.23042070e-307, 3.56043053e-307, 1.37961641e-306, 6.23039694e-307])"
      ]
     },
     "metadata": {},
     "execution_count": 82
    }
   ],
   "source": [
    "a[0]"
   ]
  },
  {
   "cell_type": "code",
   "execution_count": 84,
   "metadata": {},
   "outputs": [
    {
     "output_type": "execute_result",
     "data": {
      "text/plain": [
       "6.230420704259778e-307"
      ]
     },
     "metadata": {},
     "execution_count": 84
    }
   ],
   "source": [
    "a[0][0]"
   ]
  },
  {
   "cell_type": "code",
   "execution_count": 90,
   "metadata": {},
   "outputs": [
    {
     "output_type": "execute_result",
     "data": {
      "text/plain": [
       "array([3.56043053e-307, 1.37961641e-306])"
      ]
     },
     "metadata": {},
     "execution_count": 90
    }
   ],
   "source": [
    "a[0][1:3]"
   ]
  },
  {
   "cell_type": "code",
   "execution_count": 87,
   "metadata": {},
   "outputs": [
    {
     "output_type": "execute_result",
     "data": {
      "text/plain": [
       "array([6.23042070e-307, 3.56043053e-307])"
      ]
     },
     "metadata": {},
     "execution_count": 87
    }
   ],
   "source": [
    "a[0][:2]"
   ]
  },
  {
   "cell_type": "code",
   "execution_count": 89,
   "metadata": {},
   "outputs": [
    {
     "output_type": "execute_result",
     "data": {
      "text/plain": [
       "array([1.37961641e-306, 6.23039694e-307])"
      ]
     },
     "metadata": {},
     "execution_count": 89
    }
   ],
   "source": [
    "a[0][2:]"
   ]
  },
  {
   "cell_type": "code",
   "execution_count": 92,
   "metadata": {},
   "outputs": [
    {
     "output_type": "execute_result",
     "data": {
      "text/plain": [
       "6.230420704259778e-307"
      ]
     },
     "metadata": {},
     "execution_count": 92
    }
   ],
   "source": [
    "# So far, it was much alike lists! Let's explore some of the unique features of Numpy\n",
    "a[0, 0]"
   ]
  },
  {
   "cell_type": "code",
   "execution_count": 94,
   "metadata": {},
   "outputs": [
    {
     "output_type": "execute_result",
     "data": {
      "text/plain": [
       "6.230396937285255e-307"
      ]
     },
     "metadata": {},
     "execution_count": 94
    }
   ],
   "source": [
    "a[0, -1]"
   ]
  },
  {
   "cell_type": "code",
   "execution_count": 95,
   "metadata": {},
   "outputs": [
    {
     "output_type": "execute_result",
     "data": {
      "text/plain": [
       "array([6.23042070e-307, 3.56043053e-307, 1.37961641e-306, 6.23039694e-307])"
      ]
     },
     "metadata": {},
     "execution_count": 95
    }
   ],
   "source": [
    "a[0,:]"
   ]
  },
  {
   "cell_type": "code",
   "execution_count": 96,
   "metadata": {},
   "outputs": [
    {
     "output_type": "execute_result",
     "data": {
      "text/plain": [
       "array([[6.23042070e-307, 3.56043053e-307, 1.37961641e-306,\n",
       "        6.23039694e-307],\n",
       "       [6.23053954e-307, 9.34609790e-307, 8.45593934e-307,\n",
       "        9.34600963e-307],\n",
       "       [1.11261774e-306, 6.23037657e-307, 6.23053954e-307,\n",
       "        8.06638080e-308],\n",
       "       [8.01106038e-307, 6.89805151e-307, 1.78020169e-306,\n",
       "        1.42410974e-306]])"
      ]
     },
     "metadata": {},
     "execution_count": 96
    }
   ],
   "source": [
    "a[:]"
   ]
  },
  {
   "source": [
    "## Mathematical Operations, Iterations Over Numpy Arrays and Numpy's Universal Functions (ufuncs)"
   ],
   "cell_type": "markdown",
   "metadata": {}
  },
  {
   "cell_type": "code",
   "execution_count": 99,
   "metadata": {},
   "outputs": [
    {
     "output_type": "stream",
     "name": "stdout",
     "text": [
      "6.230420704259778e-307\n3.5604305343967845e-307\n1.379616413496319e-306\n6.230396937285255e-307\n"
     ]
    }
   ],
   "source": [
    "for value in a[0]:\n",
    "    print(value)"
   ]
  },
  {
   "cell_type": "code",
   "execution_count": 101,
   "metadata": {},
   "outputs": [
    {
     "output_type": "execute_result",
     "data": {
      "text/plain": [
       "array([1.24609602e-306, 1.29065284e-306, 2.22521035e-306, 1.55764066e-306])"
      ]
     },
     "metadata": {},
     "execution_count": 101
    }
   ],
   "source": [
    "a[0] + a[1] # vector sum"
   ]
  },
  {
   "cell_type": "code",
   "execution_count": 102,
   "metadata": {},
   "outputs": [
    {
     "output_type": "execute_result",
     "data": {
      "text/plain": [
       "array([-1.18833940e-311, -5.78566737e-307,  5.34022479e-307,\n",
       "       -3.11561269e-307])"
      ]
     },
     "metadata": {},
     "execution_count": 102
    }
   ],
   "source": [
    "a[0] - a[1] # vector differnce"
   ]
  },
  {
   "source": [
    "#### Exercise: creating a one dimensional array from our matrix 'a':"
   ],
   "cell_type": "markdown",
   "metadata": {}
  },
  {
   "cell_type": "code",
   "execution_count": 146,
   "metadata": {},
   "outputs": [],
   "source": [
    "cells=[]\n",
    "[[cells.append(cell) for cell in row] for row in a]\n",
    "cells = np.array(cells)"
   ]
  },
  {
   "cell_type": "code",
   "execution_count": 166,
   "metadata": {},
   "outputs": [
    {
     "output_type": "stream",
     "name": "stdout",
     "text": [
      "<class 'numpy.ndarray'> <class 'numpy.float64'> (16,) 1\n"
     ]
    },
    {
     "output_type": "execute_result",
     "data": {
      "text/plain": [
       "array([6.23042070e-307, 3.56043053e-307, 1.37961641e-306, 6.23039694e-307,\n",
       "       6.23053954e-307, 9.34609790e-307, 8.45593934e-307, 9.34600963e-307,\n",
       "       1.11261774e-306, 6.23037657e-307, 6.23053954e-307, 8.06638080e-308,\n",
       "       8.01106038e-307, 6.89805151e-307, 1.78020169e-306, 1.42410974e-306])"
      ]
     },
     "metadata": {},
     "execution_count": 166
    }
   ],
   "source": [
    "print(type(cells), type(cells[0]), cells.shape, cells.ndim)\n",
    "\n",
    "cells"
   ]
  },
  {
   "source": [
    "#### Exercise: how to sum up all values from individual cells in the matrix 'a'?"
   ],
   "cell_type": "markdown",
   "metadata": {}
  },
  {
   "cell_type": "code",
   "execution_count": 165,
   "metadata": {},
   "outputs": [
    {
     "output_type": "execute_result",
     "data": {
      "text/plain": [
       "1.345419564494449e-305"
      ]
     },
     "metadata": {},
     "execution_count": 165
    }
   ],
   "source": [
    "sum(sum(row for row in a))"
   ]
  },
  {
   "source": [
    "#### Exercise: how to add 1 to each element of a matrix?"
   ],
   "cell_type": "markdown",
   "metadata": {}
  },
  {
   "cell_type": "code",
   "execution_count": 171,
   "metadata": {},
   "outputs": [],
   "source": [
    "my_matrix = np.ones((3,3))"
   ]
  },
  {
   "cell_type": "code",
   "execution_count": 172,
   "metadata": {},
   "outputs": [
    {
     "output_type": "execute_result",
     "data": {
      "text/plain": [
       "array([[1., 1., 1.],\n",
       "       [1., 1., 1.],\n",
       "       [1., 1., 1.]])"
      ]
     },
     "metadata": {},
     "execution_count": 172
    }
   ],
   "source": [
    "my_matrix"
   ]
  },
  {
   "cell_type": "code",
   "execution_count": 176,
   "metadata": {},
   "outputs": [],
   "source": [
    "my_matrix = np.add(my_matrix, 1) # this function is not only much smaller, but also much faster, because it also makes advantage of parallelism"
   ]
  },
  {
   "cell_type": "code",
   "execution_count": 177,
   "metadata": {},
   "outputs": [
    {
     "output_type": "execute_result",
     "data": {
      "text/plain": [
       "array([[2., 2., 2.],\n",
       "       [2., 2., 2.],\n",
       "       [2., 2., 2.]])"
      ]
     },
     "metadata": {},
     "execution_count": 177
    }
   ],
   "source": [
    "my_matrix"
   ]
  },
  {
   "source": [
    "#### Operation Overloading"
   ],
   "cell_type": "markdown",
   "metadata": {}
  },
  {
   "cell_type": "code",
   "execution_count": 179,
   "metadata": {},
   "outputs": [
    {
     "output_type": "execute_result",
     "data": {
      "text/plain": [
       "array([[4., 4., 4.],\n",
       "       [4., 4., 4.],\n",
       "       [4., 4., 4.]])"
      ]
     },
     "metadata": {},
     "execution_count": 179
    }
   ],
   "source": [
    "my_matrix + 2 "
   ]
  },
  {
   "source": [
    "#### Numpy's *reduce* operation\n",
    "\n",
    "The principle of this operation comes from the MapReduce operation, the idea is that it will distribute the operations amongst multiple computing nodes and group up the results in the end!"
   ],
   "cell_type": "markdown",
   "metadata": {}
  },
  {
   "cell_type": "code",
   "execution_count": 187,
   "metadata": {},
   "outputs": [],
   "source": [
    "my_matrix[0][0] = 8\n",
    "my_matrix[1][0] = 1"
   ]
  },
  {
   "cell_type": "code",
   "execution_count": 188,
   "metadata": {},
   "outputs": [
    {
     "output_type": "execute_result",
     "data": {
      "text/plain": [
       "array([[8., 2., 2.],\n",
       "       [1., 2., 2.],\n",
       "       [2., 2., 2.]])"
      ]
     },
     "metadata": {},
     "execution_count": 188
    }
   ],
   "source": [
    "my_matrix"
   ]
  },
  {
   "cell_type": "code",
   "execution_count": 189,
   "metadata": {},
   "outputs": [
    {
     "output_type": "execute_result",
     "data": {
      "text/plain": [
       "array([11.,  6.,  6.])"
      ]
     },
     "metadata": {},
     "execution_count": 189
    }
   ],
   "source": [
    "np.add.reduce(my_matrix, axis=0) # column sums"
   ]
  },
  {
   "cell_type": "code",
   "execution_count": 190,
   "metadata": {},
   "outputs": [
    {
     "output_type": "execute_result",
     "data": {
      "text/plain": [
       "array([12.,  5.,  6.])"
      ]
     },
     "metadata": {},
     "execution_count": 190
    }
   ],
   "source": [
    "np.add.reduce(my_matrix, axis=1) # row sums"
   ]
  },
  {
   "cell_type": "code",
   "execution_count": 191,
   "metadata": {},
   "outputs": [
    {
     "output_type": "execute_result",
     "data": {
      "text/plain": [
       "array([11.,  6.,  6.])"
      ]
     },
     "metadata": {},
     "execution_count": 191
    }
   ],
   "source": [
    "np.add.reduce(my_matrix)"
   ]
  },
  {
   "source": [
    "Add and many other ufuncs can be found at https://numpy.org/doc/stable/reference/ufuncs.html#available-ufuncs"
   ],
   "cell_type": "markdown",
   "metadata": {}
  }
 ]
}